{
  "nbformat": 4,
  "nbformat_minor": 0,
  "metadata": {
    "colab": {
      "name": "LSTM_predicto.ipynb",
      "provenance": []
    },
    "kernelspec": {
      "name": "python3",
      "display_name": "Python 3"
    },
    "accelerator": "TPU"
  },
  "cells": [
    {
      "cell_type": "markdown",
      "metadata": {
        "id": "UrkuG0v5QG9a",
        "colab_type": "text"
      },
      "source": [
        "IMPORTS"
      ]
    },
    {
      "cell_type": "code",
      "metadata": {
        "id": "e55AvObKgQOO",
        "colab_type": "code",
        "colab": {}
      },
      "source": [
        "#Import the libraries\n",
        "import math\n",
        "import pandas_datareader as web\n",
        "import numpy as np\n",
        "import pandas as pd\n",
        "from sklearn.preprocessing import MinMaxScaler\n",
        "from keras.models import Sequential\n",
        "from keras.layers import Dense, LSTM\n",
        "import matplotlib.pyplot as plt\n",
        "plt.style.use('fivethirtyeight')"
      ],
      "execution_count": 0,
      "outputs": []
    },
    {
      "cell_type": "code",
      "metadata": {
        "id": "C5fiskcqh35U",
        "colab_type": "code",
        "colab": {}
      },
      "source": [
        "df = pd.read_csv('train_csv.csv')"
      ],
      "execution_count": 0,
      "outputs": []
    },
    {
      "cell_type": "code",
      "metadata": {
        "id": "W_PlNeTni5pD",
        "colab_type": "code",
        "colab": {}
      },
      "source": [
        "df.reset_index(drop=True, inplace=True)"
      ],
      "execution_count": 0,
      "outputs": []
    },
    {
      "cell_type": "code",
      "metadata": {
        "id": "KY4XYZr3iIIS",
        "colab_type": "code",
        "outputId": "5c055b74-9fcb-4a09-cd04-5f82ffac52ac",
        "colab": {
          "base_uri": "https://localhost:8080/",
          "height": 35
        }
      },
      "source": [
        "df.shape"
      ],
      "execution_count": 82,
      "outputs": [
        {
          "output_type": "execute_result",
          "data": {
            "text/plain": [
              "(80, 3)"
            ]
          },
          "metadata": {
            "tags": []
          },
          "execution_count": 82
        }
      ]
    },
    {
      "cell_type": "code",
      "metadata": {
        "id": "5nhwZOxmjrVD",
        "colab_type": "code",
        "outputId": "f4e0b9c6-3799-49e5-f03a-5df901d8b18a",
        "colab": {
          "base_uri": "https://localhost:8080/",
          "height": 202
        }
      },
      "source": [
        "df.head()"
      ],
      "execution_count": 83,
      "outputs": [
        {
          "output_type": "execute_result",
          "data": {
            "text/html": [
              "<div>\n",
              "<style scoped>\n",
              "    .dataframe tbody tr th:only-of-type {\n",
              "        vertical-align: middle;\n",
              "    }\n",
              "\n",
              "    .dataframe tbody tr th {\n",
              "        vertical-align: top;\n",
              "    }\n",
              "\n",
              "    .dataframe thead th {\n",
              "        text-align: right;\n",
              "    }\n",
              "</style>\n",
              "<table border=\"1\" class=\"dataframe\">\n",
              "  <thead>\n",
              "    <tr style=\"text-align: right;\">\n",
              "      <th></th>\n",
              "      <th>id</th>\n",
              "      <th>time</th>\n",
              "      <th>feature</th>\n",
              "    </tr>\n",
              "  </thead>\n",
              "  <tbody>\n",
              "    <tr>\n",
              "      <th>0</th>\n",
              "      <td>0</td>\n",
              "      <td>2019-03-19 00:00:00</td>\n",
              "      <td>237.97</td>\n",
              "    </tr>\n",
              "    <tr>\n",
              "      <th>1</th>\n",
              "      <td>1</td>\n",
              "      <td>2019-03-19 00:00:10</td>\n",
              "      <td>57.93</td>\n",
              "    </tr>\n",
              "    <tr>\n",
              "      <th>2</th>\n",
              "      <td>2</td>\n",
              "      <td>2019-03-19 00:00:20</td>\n",
              "      <td>90.53</td>\n",
              "    </tr>\n",
              "    <tr>\n",
              "      <th>3</th>\n",
              "      <td>3</td>\n",
              "      <td>2019-03-19 00:00:30</td>\n",
              "      <td>260.75</td>\n",
              "    </tr>\n",
              "    <tr>\n",
              "      <th>4</th>\n",
              "      <td>4</td>\n",
              "      <td>2019-03-19 00:00:40</td>\n",
              "      <td>49.70</td>\n",
              "    </tr>\n",
              "  </tbody>\n",
              "</table>\n",
              "</div>"
            ],
            "text/plain": [
              "   id                 time  feature\n",
              "0   0  2019-03-19 00:00:00   237.97\n",
              "1   1  2019-03-19 00:00:10    57.93\n",
              "2   2  2019-03-19 00:00:20    90.53\n",
              "3   3  2019-03-19 00:00:30   260.75\n",
              "4   4  2019-03-19 00:00:40    49.70"
            ]
          },
          "metadata": {
            "tags": []
          },
          "execution_count": 83
        }
      ]
    },
    {
      "cell_type": "code",
      "metadata": {
        "id": "Wh-GnSi5iT31",
        "colab_type": "code",
        "outputId": "34ce4c43-feaf-42ce-a503-c0317fdbfdae",
        "colab": {
          "base_uri": "https://localhost:8080/",
          "height": 440
        }
      },
      "source": [
        "#Visualize the features\n",
        "plt.figure(figsize=(16,8))\n",
        "plt.title('FEATURE')\n",
        "plt.scatter(df['time'], df['feature'])\n",
        "plt.plot(df['time'], df['feature'])\n",
        "\n",
        "plt.xlabel('Date',fontsize=18)\n",
        "plt.ylabel('features',fontsize=18)\n",
        "plt.show()"
      ],
      "execution_count": 84,
      "outputs": [
        {
          "output_type": "display_data",
          "data": {
            "image/png": "[encoded data removed]",
            "text/plain": [
              "<Figure size 1152x576 with 1 Axes>"
            ]
          },
          "metadata": {
            "tags": []
          }
        }
      ]
    },
    {
      "cell_type": "markdown",
      "metadata": {
        "id": "cCe2jy2iQOMZ",
        "colab_type": "text"
      },
      "source": [
        "Feature Engineering"
      ]
    },
    {
      "cell_type": "code",
      "metadata": {
        "id": "s7KemH23j3_2",
        "colab_type": "code",
        "colab": {}
      },
      "source": [
        "#Create a new dataframe with only the 'feature' column\n",
        "data = df.filter(['feature'])\n",
        "#Converting the dataframe to a numpy array\n",
        "dataset = data.values\n",
        "#Get /Compute the number of rows to train the model on\n",
        "training_data_len = math.ceil( len(dataset) *.8)"
      ],
      "execution_count": 0,
      "outputs": []
    },
    {
      "cell_type": "code",
      "metadata": {
        "id": "bmx1Qu2epVTR",
        "colab_type": "code",
        "outputId": "aa62d6cd-01e0-4e07-83c5-b01bec043e97",
        "colab": {
          "base_uri": "https://localhost:8080/",
          "height": 35
        }
      },
      "source": [
        "training_data_len"
      ],
      "execution_count": 86,
      "outputs": [
        {
          "output_type": "execute_result",
          "data": {
            "text/plain": [
              "64"
            ]
          },
          "metadata": {
            "tags": []
          },
          "execution_count": 86
        }
      ]
    },
    {
      "cell_type": "code",
      "metadata": {
        "id": "hRiOf3uum4jc",
        "colab_type": "code",
        "colab": {}
      },
      "source": [
        "#Scale the all of the data to be values between 0 and 1 \n",
        "scaler = MinMaxScaler(feature_range=(0, 1)) \n",
        "scaled_data = scaler.fit_transform(dataset)\n"
      ],
      "execution_count": 0,
      "outputs": []
    },
    {
      "cell_type": "code",
      "metadata": {
        "id": "6mg1v0apm8Dd",
        "colab_type": "code",
        "outputId": "9d5415e5-ea38-45cb-d767-6014aa11a7c6",
        "colab": {
          "base_uri": "https://localhost:8080/",
          "height": 35
        }
      },
      "source": [
        "len(scaled_data)"
      ],
      "execution_count": 88,
      "outputs": [
        {
          "output_type": "execute_result",
          "data": {
            "text/plain": [
              "80"
            ]
          },
          "metadata": {
            "tags": []
          },
          "execution_count": 88
        }
      ]
    },
    {
      "cell_type": "markdown",
      "metadata": {
        "id": "u61TKNL9QVmm",
        "colab_type": "text"
      },
      "source": [
        "Train and Test Split"
      ]
    },
    {
      "cell_type": "code",
      "metadata": {
        "id": "_v8ufSahm9RA",
        "colab_type": "code",
        "outputId": "6a2bc557-f773-4f96-f82a-39015aa68201",
        "colab": {
          "base_uri": "https://localhost:8080/",
          "height": 35
        }
      },
      "source": [
        "#Create the scaled training data set \n",
        "train_data = scaled_data[0:training_data_len  , : ]\n",
        "len(train_data)"
      ],
      "execution_count": 89,
      "outputs": [
        {
          "output_type": "execute_result",
          "data": {
            "text/plain": [
              "64"
            ]
          },
          "metadata": {
            "tags": []
          },
          "execution_count": 89
        }
      ]
    },
    {
      "cell_type": "code",
      "metadata": {
        "id": "6rZFrrBXqzjB",
        "colab_type": "code",
        "colab": {}
      },
      "source": [
        "#Split the data into x_train and y_train data sets\n",
        "x_train=[]\n",
        "y_train = []\n",
        "for i in range(1, len(train_data)):\n",
        "    x_train.append(train_data[i-1:i,0])\n",
        "    y_train.append(train_data[i,0])"
      ],
      "execution_count": 0,
      "outputs": []
    },
    {
      "cell_type": "code",
      "metadata": {
        "id": "oVO8C5csvHoG",
        "colab_type": "code",
        "colab": {}
      },
      "source": [
        "#Convert x_train and y_train to numpy arrays\n",
        "x_train, y_train = np.array(x_train), np.array(y_train)"
      ],
      "execution_count": 0,
      "outputs": []
    },
    {
      "cell_type": "code",
      "metadata": {
        "id": "vBVAkhp8vMNg",
        "colab_type": "code",
        "colab": {}
      },
      "source": [
        "#Reshape the data into the shape accepted by the LSTM\n",
        "x_train = np.reshape(x_train, (x_train.shape[0],x_train.shape[1],1))"
      ],
      "execution_count": 0,
      "outputs": []
    },
    {
      "cell_type": "markdown",
      "metadata": {
        "id": "cd-vcMCTQZbr",
        "colab_type": "text"
      },
      "source": [
        "Build the Architecture"
      ]
    },
    {
      "cell_type": "code",
      "metadata": {
        "id": "KTxE0Aowvcfp",
        "colab_type": "code",
        "colab": {}
      },
      "source": [
        "#Build the LSTM network model\n",
        "model = Sequential()\n",
        "model.add(LSTM(units=50, return_sequences=True,input_shape=(x_train.shape[1],1)))\n",
        "model.add(LSTM(units=50, return_sequences=False))\n",
        "model.add(Dense(units=25))\n",
        "model.add(Dense(units=1))\n",
        "\n",
        "#Compile the model\n",
        "model.compile(optimizer='adam', loss='mean_squared_error')"
      ],
      "execution_count": 0,
      "outputs": []
    },
    {
      "cell_type": "code",
      "metadata": {
        "id": "3xS3JzhJvep2",
        "colab_type": "code",
        "colab": {}
      },
      "source": [
        "# from keras.layers import Dropout\n",
        "\n",
        "# # Initialising the RNN\n",
        "# model = Sequential()\n",
        "# model.add(LSTM(units = 50, return_sequences = True, input_shape = (x_train.shape[1], 1)))\n",
        "# model.add(Dropout(0.2))\n",
        "# # Adding a second LSTM layer and some Dropout regularisation\n",
        "# model.add(LSTM(units = 50, return_sequences = True))\n",
        "# model.add(Dropout(0.2))\n",
        "# # Adding a third LSTM layer and some Dropout regularisation\n",
        "# model.add(LSTM(units = 50, return_sequences = True))\n",
        "# model.add(Dropout(0.2))\n",
        "# # Adding a fourth LSTM layer and some Dropout regularisation\n",
        "# model.add(LSTM(units = 50))\n",
        "# model.add(Dropout(0.2))\n",
        "# # Adding the output layer\n",
        "# # For Full connection layer we use dense\n",
        "# # As the output is 1D so we use unit=1\n",
        "# model.add(Dense(units = 1))\n",
        "# # Compiling the RNN\n",
        "# # For optimizer we can go through keras optimizers Docomentation\n",
        "# # As it is regression problem so we use mean squared error\n",
        "# model.compile(optimizer = 'adam', loss = 'mean_squared_error')\n"
      ],
      "execution_count": 0,
      "outputs": []
    },
    {
      "cell_type": "markdown",
      "metadata": {
        "id": "CQBxOxkBQgXp",
        "colab_type": "text"
      },
      "source": [
        "Train The Model"
      ]
    },
    {
      "cell_type": "code",
      "metadata": {
        "id": "m3VOCGKgvjyB",
        "colab_type": "code",
        "outputId": "8db0bb9f-5605-4b9c-e6ce-288aec6daa9e",
        "colab": {
          "base_uri": "https://localhost:8080/",
          "height": 1000
        }
      },
      "source": [
        "#Train the model\n",
        "model.fit(x_train, y_train, batch_size=50, epochs=100)"
      ],
      "execution_count": 94,
      "outputs": [
        {
          "output_type": "stream",
          "text": [
            "Epoch 1/100\n",
            "63/63 [==============================] - 1s 12ms/step - loss: 0.0992\n",
            "Epoch 2/100\n",
            "63/63 [==============================] - 0s 153us/step - loss: 0.0909\n",
            "Epoch 3/100\n",
            "63/63 [==============================] - 0s 195us/step - loss: 0.0821\n",
            "Epoch 4/100\n",
            "63/63 [==============================] - 0s 231us/step - loss: 0.0739\n",
            "Epoch 5/100\n",
            "63/63 [==============================] - 0s 244us/step - loss: 0.0658\n",
            "Epoch 6/100\n",
            "63/63 [==============================] - 0s 232us/step - loss: 0.0589\n",
            "Epoch 7/100\n",
            "63/63 [==============================] - 0s 189us/step - loss: 0.0522\n",
            "Epoch 8/100\n",
            "63/63 [==============================] - 0s 224us/step - loss: 0.0469\n",
            "Epoch 9/100\n",
            "63/63 [==============================] - 0s 224us/step - loss: 0.0416\n",
            "Epoch 10/100\n",
            "63/63 [==============================] - 0s 207us/step - loss: 0.0387\n",
            "Epoch 11/100\n",
            "63/63 [==============================] - 0s 202us/step - loss: 0.0367\n",
            "Epoch 12/100\n",
            "63/63 [==============================] - 0s 192us/step - loss: 0.0356\n",
            "Epoch 13/100\n",
            "63/63 [==============================] - 0s 193us/step - loss: 0.0358\n",
            "Epoch 14/100\n",
            "63/63 [==============================] - 0s 230us/step - loss: 0.0362\n",
            "Epoch 15/100\n",
            "63/63 [==============================] - 0s 227us/step - loss: 0.0373\n",
            "Epoch 16/100\n",
            "63/63 [==============================] - 0s 196us/step - loss: 0.0376\n",
            "Epoch 17/100\n",
            "63/63 [==============================] - 0s 167us/step - loss: 0.0376\n",
            "Epoch 18/100\n",
            "63/63 [==============================] - 0s 216us/step - loss: 0.0373\n",
            "Epoch 19/100\n",
            "63/63 [==============================] - 0s 192us/step - loss: 0.0367\n",
            "Epoch 20/100\n",
            "63/63 [==============================] - 0s 268us/step - loss: 0.0363\n",
            "Epoch 21/100\n",
            "63/63 [==============================] - 0s 219us/step - loss: 0.0357\n",
            "Epoch 22/100\n",
            "63/63 [==============================] - 0s 159us/step - loss: 0.0355\n",
            "Epoch 23/100\n",
            "63/63 [==============================] - 0s 151us/step - loss: 0.0354\n",
            "Epoch 24/100\n",
            "63/63 [==============================] - 0s 141us/step - loss: 0.0355\n",
            "Epoch 25/100\n",
            "63/63 [==============================] - 0s 197us/step - loss: 0.0356\n",
            "Epoch 26/100\n",
            "63/63 [==============================] - 0s 202us/step - loss: 0.0356\n",
            "Epoch 27/100\n",
            "63/63 [==============================] - 0s 194us/step - loss: 0.0356\n",
            "Epoch 28/100\n",
            "63/63 [==============================] - 0s 190us/step - loss: 0.0356\n",
            "Epoch 29/100\n",
            "63/63 [==============================] - 0s 215us/step - loss: 0.0355\n",
            "Epoch 30/100\n",
            "63/63 [==============================] - 0s 233us/step - loss: 0.0354\n",
            "Epoch 31/100\n",
            "63/63 [==============================] - 0s 194us/step - loss: 0.0354\n",
            "Epoch 32/100\n",
            "63/63 [==============================] - 0s 184us/step - loss: 0.0353\n",
            "Epoch 33/100\n",
            "63/63 [==============================] - 0s 182us/step - loss: 0.0353\n",
            "Epoch 34/100\n",
            "63/63 [==============================] - 0s 274us/step - loss: 0.0353\n",
            "Epoch 35/100\n",
            "63/63 [==============================] - 0s 138us/step - loss: 0.0353\n",
            "Epoch 36/100\n",
            "63/63 [==============================] - 0s 190us/step - loss: 0.0352\n",
            "Epoch 37/100\n",
            "63/63 [==============================] - 0s 206us/step - loss: 0.0352\n",
            "Epoch 38/100\n",
            "63/63 [==============================] - 0s 181us/step - loss: 0.0351\n",
            "Epoch 39/100\n",
            "63/63 [==============================] - 0s 356us/step - loss: 0.0351\n",
            "Epoch 40/100\n",
            "63/63 [==============================] - 0s 182us/step - loss: 0.0351\n",
            "Epoch 41/100\n",
            "63/63 [==============================] - 0s 205us/step - loss: 0.0352\n",
            "Epoch 42/100\n",
            "63/63 [==============================] - 0s 155us/step - loss: 0.0351\n",
            "Epoch 43/100\n",
            "63/63 [==============================] - 0s 200us/step - loss: 0.0352\n",
            "Epoch 44/100\n",
            "63/63 [==============================] - 0s 220us/step - loss: 0.0352\n",
            "Epoch 45/100\n",
            "63/63 [==============================] - 0s 189us/step - loss: 0.0351\n",
            "Epoch 46/100\n",
            "63/63 [==============================] - 0s 167us/step - loss: 0.0349\n",
            "Epoch 47/100\n",
            "63/63 [==============================] - 0s 159us/step - loss: 0.0348\n",
            "Epoch 48/100\n",
            "63/63 [==============================] - 0s 191us/step - loss: 0.0350\n",
            "Epoch 49/100\n",
            "63/63 [==============================] - 0s 154us/step - loss: 0.0350\n",
            "Epoch 50/100\n",
            "63/63 [==============================] - 0s 216us/step - loss: 0.0351\n",
            "Epoch 51/100\n",
            "63/63 [==============================] - 0s 217us/step - loss: 0.0350\n",
            "Epoch 52/100\n",
            "63/63 [==============================] - 0s 213us/step - loss: 0.0350\n",
            "Epoch 53/100\n",
            "63/63 [==============================] - 0s 218us/step - loss: 0.0349\n",
            "Epoch 54/100\n",
            "63/63 [==============================] - 0s 178us/step - loss: 0.0349\n",
            "Epoch 55/100\n",
            "63/63 [==============================] - 0s 159us/step - loss: 0.0349\n",
            "Epoch 56/100\n",
            "63/63 [==============================] - 0s 173us/step - loss: 0.0348\n",
            "Epoch 57/100\n",
            "63/63 [==============================] - 0s 181us/step - loss: 0.0348\n",
            "Epoch 58/100\n",
            "63/63 [==============================] - 0s 180us/step - loss: 0.0348\n",
            "Epoch 59/100\n",
            "63/63 [==============================] - 0s 162us/step - loss: 0.0348\n",
            "Epoch 60/100\n",
            "63/63 [==============================] - 0s 157us/step - loss: 0.0347\n",
            "Epoch 61/100\n",
            "63/63 [==============================] - 0s 151us/step - loss: 0.0348\n",
            "Epoch 62/100\n",
            "63/63 [==============================] - 0s 148us/step - loss: 0.0347\n",
            "Epoch 63/100\n",
            "63/63 [==============================] - 0s 141us/step - loss: 0.0347\n",
            "Epoch 64/100\n",
            "63/63 [==============================] - 0s 166us/step - loss: 0.0349\n",
            "Epoch 65/100\n",
            "63/63 [==============================] - 0s 177us/step - loss: 0.0350\n",
            "Epoch 66/100\n",
            "63/63 [==============================] - 0s 221us/step - loss: 0.0350\n",
            "Epoch 67/100\n",
            "63/63 [==============================] - 0s 161us/step - loss: 0.0349\n",
            "Epoch 68/100\n",
            "63/63 [==============================] - 0s 214us/step - loss: 0.0348\n",
            "Epoch 69/100\n",
            "63/63 [==============================] - 0s 190us/step - loss: 0.0347\n",
            "Epoch 70/100\n",
            "63/63 [==============================] - 0s 176us/step - loss: 0.0347\n",
            "Epoch 71/100\n",
            "63/63 [==============================] - 0s 195us/step - loss: 0.0347\n",
            "Epoch 72/100\n",
            "63/63 [==============================] - 0s 163us/step - loss: 0.0347\n",
            "Epoch 73/100\n",
            "63/63 [==============================] - 0s 168us/step - loss: 0.0347\n",
            "Epoch 74/100\n",
            "63/63 [==============================] - 0s 146us/step - loss: 0.0347\n",
            "Epoch 75/100\n",
            "63/63 [==============================] - 0s 183us/step - loss: 0.0347\n",
            "Epoch 76/100\n",
            "63/63 [==============================] - 0s 213us/step - loss: 0.0347\n",
            "Epoch 77/100\n",
            "63/63 [==============================] - 0s 196us/step - loss: 0.0347\n",
            "Epoch 78/100\n",
            "63/63 [==============================] - 0s 164us/step - loss: 0.0347\n",
            "Epoch 79/100\n",
            "63/63 [==============================] - 0s 216us/step - loss: 0.0348\n",
            "Epoch 80/100\n",
            "63/63 [==============================] - 0s 210us/step - loss: 0.0347\n",
            "Epoch 81/100\n",
            "63/63 [==============================] - 0s 210us/step - loss: 0.0347\n",
            "Epoch 82/100\n",
            "63/63 [==============================] - 0s 249us/step - loss: 0.0347\n",
            "Epoch 83/100\n",
            "63/63 [==============================] - 0s 236us/step - loss: 0.0347\n",
            "Epoch 84/100\n",
            "63/63 [==============================] - 0s 272us/step - loss: 0.0347\n",
            "Epoch 85/100\n",
            "63/63 [==============================] - 0s 246us/step - loss: 0.0347\n",
            "Epoch 86/100\n",
            "63/63 [==============================] - 0s 209us/step - loss: 0.0347\n",
            "Epoch 87/100\n",
            "63/63 [==============================] - 0s 208us/step - loss: 0.0348\n",
            "Epoch 88/100\n",
            "63/63 [==============================] - 0s 185us/step - loss: 0.0347\n",
            "Epoch 89/100\n",
            "63/63 [==============================] - 0s 160us/step - loss: 0.0347\n",
            "Epoch 90/100\n",
            "63/63 [==============================] - 0s 166us/step - loss: 0.0347\n",
            "Epoch 91/100\n",
            "63/63 [==============================] - 0s 162us/step - loss: 0.0347\n",
            "Epoch 92/100\n",
            "63/63 [==============================] - 0s 171us/step - loss: 0.0347\n",
            "Epoch 93/100\n",
            "63/63 [==============================] - 0s 154us/step - loss: 0.0347\n",
            "Epoch 94/100\n",
            "63/63 [==============================] - 0s 157us/step - loss: 0.0347\n",
            "Epoch 95/100\n",
            "63/63 [==============================] - 0s 167us/step - loss: 0.0347\n",
            "Epoch 96/100\n",
            "63/63 [==============================] - 0s 165us/step - loss: 0.0348\n",
            "Epoch 97/100\n",
            "63/63 [==============================] - 0s 308us/step - loss: 0.0347\n",
            "Epoch 98/100\n",
            "63/63 [==============================] - 0s 234us/step - loss: 0.0346\n",
            "Epoch 99/100\n",
            "63/63 [==============================] - 0s 176us/step - loss: 0.0346\n",
            "Epoch 100/100\n",
            "63/63 [==============================] - 0s 204us/step - loss: 0.0348\n"
          ],
          "name": "stdout"
        },
        {
          "output_type": "execute_result",
          "data": {
            "text/plain": [
              "<keras.callbacks.callbacks.History at 0x7f837e366c18>"
            ]
          },
          "metadata": {
            "tags": []
          },
          "execution_count": 94
        }
      ]
    },
    {
      "cell_type": "markdown",
      "metadata": {
        "id": "r-XPuHXXQkxc",
        "colab_type": "text"
      },
      "source": [
        "Testing Dataset "
      ]
    },
    {
      "cell_type": "code",
      "metadata": {
        "id": "9YXpwflAvlc9",
        "colab_type": "code",
        "colab": {
          "base_uri": "https://localhost:8080/",
          "height": 35
        },
        "outputId": "01e4f294-ad71-446a-bce0-c6071ee614c8"
      },
      "source": [
        "#Test data set\n",
        "test_data = scaled_data[training_data_len - 1: , : ]\n",
        "len(test_data)"
      ],
      "execution_count": 95,
      "outputs": [
        {
          "output_type": "execute_result",
          "data": {
            "text/plain": [
              "17"
            ]
          },
          "metadata": {
            "tags": []
          },
          "execution_count": 95
        }
      ]
    },
    {
      "cell_type": "code",
      "metadata": {
        "id": "yF98KjtAxAiM",
        "colab_type": "code",
        "colab": {}
      },
      "source": [
        "#Create the x_test and y_test data sets\n",
        "x_test = []\n",
        "y_test =  dataset[training_data_len : , : ] #Get all of the rows from index 1603 to the rest and all of the columns (in this case it's only column 'Close'), so 2003 - 1603 = 400 rows of data\n",
        "for i in range(1,len(test_data)):\n",
        "    x_test.append(test_data[i-1:i,0])"
      ],
      "execution_count": 0,
      "outputs": []
    },
    {
      "cell_type": "code",
      "metadata": {
        "id": "j2lH0qLxxrF0",
        "colab_type": "code",
        "colab": {}
      },
      "source": [
        "# x_test"
      ],
      "execution_count": 0,
      "outputs": []
    },
    {
      "cell_type": "code",
      "metadata": {
        "id": "nb3ya4mBx5RW",
        "colab_type": "code",
        "colab": {}
      },
      "source": [
        "# y_test"
      ],
      "execution_count": 0,
      "outputs": []
    },
    {
      "cell_type": "code",
      "metadata": {
        "id": "3iYWAraIx6mt",
        "colab_type": "code",
        "colab": {
          "base_uri": "https://localhost:8080/",
          "height": 35
        },
        "outputId": "5e34a0c0-e762-4427-de7d-d8ea19001bcd"
      },
      "source": [
        "len(x_test)"
      ],
      "execution_count": 99,
      "outputs": [
        {
          "output_type": "execute_result",
          "data": {
            "text/plain": [
              "16"
            ]
          },
          "metadata": {
            "tags": []
          },
          "execution_count": 99
        }
      ]
    },
    {
      "cell_type": "code",
      "metadata": {
        "id": "uHBGKHWFx8g9",
        "colab_type": "code",
        "colab": {
          "base_uri": "https://localhost:8080/",
          "height": 35
        },
        "outputId": "2cf2c7fc-79e7-4c61-9ad2-9e46a18014d0"
      },
      "source": [
        "len(y_test)"
      ],
      "execution_count": 100,
      "outputs": [
        {
          "output_type": "execute_result",
          "data": {
            "text/plain": [
              "16"
            ]
          },
          "metadata": {
            "tags": []
          },
          "execution_count": 100
        }
      ]
    },
    {
      "cell_type": "code",
      "metadata": {
        "id": "6FD16FSqyU3a",
        "colab_type": "code",
        "colab": {}
      },
      "source": [
        "#Convert x_test to a numpy array \n",
        "x_test = np.array(x_test)"
      ],
      "execution_count": 0,
      "outputs": []
    },
    {
      "cell_type": "code",
      "metadata": {
        "id": "NQtqmNUEx_lH",
        "colab_type": "code",
        "colab": {}
      },
      "source": [
        "#Reshape the data into the shape accepted by the LSTM\n",
        "x_test = np.reshape(x_test, (x_test.shape[0],x_test.shape[1],1))"
      ],
      "execution_count": 0,
      "outputs": []
    },
    {
      "cell_type": "markdown",
      "metadata": {
        "id": "gjOrU8hYQoyI",
        "colab_type": "text"
      },
      "source": [
        "Make Predictions"
      ]
    },
    {
      "cell_type": "code",
      "metadata": {
        "id": "Wbhdf0uXyEAH",
        "colab_type": "code",
        "colab": {}
      },
      "source": [
        "#Getting the models predicted price values\n",
        "predictions = model.predict(x_test) \n",
        "predictions = scaler.inverse_transform(predictions)#Undo scaling"
      ],
      "execution_count": 0,
      "outputs": []
    },
    {
      "cell_type": "markdown",
      "metadata": {
        "id": "CpRYmBuCQq8U",
        "colab_type": "text"
      },
      "source": [
        "Calculate RMSE"
      ]
    },
    {
      "cell_type": "code",
      "metadata": {
        "id": "eAw0EZf4yF2-",
        "colab_type": "code",
        "colab": {
          "base_uri": "https://localhost:8080/",
          "height": 35
        },
        "outputId": "2d3f56a8-eb7f-44bc-fe4e-de5c3960d169"
      },
      "source": [
        "#Calculate/Get the value of RMSE\n",
        "rmse=np.sqrt(np.mean(((predictions- y_test)**2)))\n",
        "rmse"
      ],
      "execution_count": 104,
      "outputs": [
        {
          "output_type": "execute_result",
          "data": {
            "text/plain": [
              "112.14445698173475"
            ]
          },
          "metadata": {
            "tags": []
          },
          "execution_count": 104
        }
      ]
    },
    {
      "cell_type": "markdown",
      "metadata": {
        "id": "EPhgLIRkQtv4",
        "colab_type": "text"
      },
      "source": [
        "Visualizations of Results"
      ]
    },
    {
      "cell_type": "code",
      "metadata": {
        "id": "7to1DdthydDK",
        "colab_type": "code",
        "colab": {
          "base_uri": "https://localhost:8080/",
          "height": 575
        },
        "outputId": "5721a3cc-3bf1-4ce7-bcc4-faf065da34fd"
      },
      "source": [
        "#Plot/Create the data for the graph\n",
        "train = data[:training_data_len]\n",
        "valid = data[training_data_len:]\n",
        "valid['Predictions'] = predictions\n",
        "\n",
        "#Visualize the data\n",
        "plt.figure(figsize=(16,8))\n",
        "plt.title('Model')\n",
        "plt.xlabel('Date', fontsize=18)\n",
        "plt.ylabel('feature', fontsize=18)\n",
        "plt.plot(train['feature'])\n",
        "plt.plot(valid[['feature', 'Predictions']])\n",
        "plt.legend(['Train', 'Val', 'Predictions'], loc='lower right')\n",
        "plt.show()"
      ],
      "execution_count": 105,
      "outputs": [
        {
          "output_type": "stream",
          "text": [
            "/usr/local/lib/python3.6/dist-packages/ipykernel_launcher.py:3: SettingWithCopyWarning: \n",
            "A value is trying to be set on a copy of a slice from a DataFrame.\n",
            "Try using .loc[row_indexer,col_indexer] = value instead\n",
            "\n",
            "See the caveats in the documentation: https://pandas.pydata.org/pandas-docs/stable/user_guide/indexing.html#returning-a-view-versus-a-copy\n",
            "  This is separate from the ipykernel package so we can avoid doing imports until\n"
          ],
          "name": "stderr"
        },
        {
          "output_type": "display_data",
          "data": {
            "image/png": "[encoded data removed]",
            "text/plain": [
              "<Figure size 1152x576 with 1 Axes>"
            ]
          },
          "metadata": {
            "tags": []
          }
        }
      ]
    },
    {
      "cell_type": "code",
      "metadata": {
        "id": "FF9ByL2HysmN",
        "colab_type": "code",
        "colab": {
          "base_uri": "https://localhost:8080/",
          "height": 539
        },
        "outputId": "eec1eaa6-4ede-40a8-8e04-b173fe03f76d"
      },
      "source": [
        "#Show the valid and predicted prices\n",
        "valid"
      ],
      "execution_count": 106,
      "outputs": [
        {
          "output_type": "execute_result",
          "data": {
            "text/html": [
              "<div>\n",
              "<style scoped>\n",
              "    .dataframe tbody tr th:only-of-type {\n",
              "        vertical-align: middle;\n",
              "    }\n",
              "\n",
              "    .dataframe tbody tr th {\n",
              "        vertical-align: top;\n",
              "    }\n",
              "\n",
              "    .dataframe thead th {\n",
              "        text-align: right;\n",
              "    }\n",
              "</style>\n",
              "<table border=\"1\" class=\"dataframe\">\n",
              "  <thead>\n",
              "    <tr style=\"text-align: right;\">\n",
              "      <th></th>\n",
              "      <th>feature</th>\n",
              "      <th>Predictions</th>\n",
              "    </tr>\n",
              "  </thead>\n",
              "  <tbody>\n",
              "    <tr>\n",
              "      <th>64</th>\n",
              "      <td>110.79</td>\n",
              "      <td>155.709793</td>\n",
              "    </tr>\n",
              "    <tr>\n",
              "      <th>65</th>\n",
              "      <td>157.37</td>\n",
              "      <td>132.607986</td>\n",
              "    </tr>\n",
              "    <tr>\n",
              "      <th>66</th>\n",
              "      <td>199.37</td>\n",
              "      <td>144.538132</td>\n",
              "    </tr>\n",
              "    <tr>\n",
              "      <th>67</th>\n",
              "      <td>173.72</td>\n",
              "      <td>155.251694</td>\n",
              "    </tr>\n",
              "    <tr>\n",
              "      <th>68</th>\n",
              "      <td>188.69</td>\n",
              "      <td>148.714096</td>\n",
              "    </tr>\n",
              "    <tr>\n",
              "      <th>69</th>\n",
              "      <td>155.62</td>\n",
              "      <td>152.531738</td>\n",
              "    </tr>\n",
              "    <tr>\n",
              "      <th>70</th>\n",
              "      <td>156.46</td>\n",
              "      <td>144.090775</td>\n",
              "    </tr>\n",
              "    <tr>\n",
              "      <th>71</th>\n",
              "      <td>111.91</td>\n",
              "      <td>144.305527</td>\n",
              "    </tr>\n",
              "    <tr>\n",
              "      <th>72</th>\n",
              "      <td>153.83</td>\n",
              "      <td>132.895370</td>\n",
              "    </tr>\n",
              "    <tr>\n",
              "      <th>73</th>\n",
              "      <td>83.51</td>\n",
              "      <td>143.633133</td>\n",
              "    </tr>\n",
              "    <tr>\n",
              "      <th>74</th>\n",
              "      <td>401.43</td>\n",
              "      <td>125.601265</td>\n",
              "    </tr>\n",
              "    <tr>\n",
              "      <th>75</th>\n",
              "      <td>469.72</td>\n",
              "      <td>205.988113</td>\n",
              "    </tr>\n",
              "    <tr>\n",
              "      <th>76</th>\n",
              "      <td>406.79</td>\n",
              "      <td>222.746872</td>\n",
              "    </tr>\n",
              "    <tr>\n",
              "      <th>77</th>\n",
              "      <td>128.91</td>\n",
              "      <td>207.311600</td>\n",
              "    </tr>\n",
              "    <tr>\n",
              "      <th>78</th>\n",
              "      <td>85.28</td>\n",
              "      <td>137.254349</td>\n",
              "    </tr>\n",
              "    <tr>\n",
              "      <th>79</th>\n",
              "      <td>121.12</td>\n",
              "      <td>126.056259</td>\n",
              "    </tr>\n",
              "  </tbody>\n",
              "</table>\n",
              "</div>"
            ],
            "text/plain": [
              "    feature  Predictions\n",
              "64   110.79   155.709793\n",
              "65   157.37   132.607986\n",
              "66   199.37   144.538132\n",
              "67   173.72   155.251694\n",
              "68   188.69   148.714096\n",
              "69   155.62   152.531738\n",
              "70   156.46   144.090775\n",
              "71   111.91   144.305527\n",
              "72   153.83   132.895370\n",
              "73    83.51   143.633133\n",
              "74   401.43   125.601265\n",
              "75   469.72   205.988113\n",
              "76   406.79   222.746872\n",
              "77   128.91   207.311600\n",
              "78    85.28   137.254349\n",
              "79   121.12   126.056259"
            ]
          },
          "metadata": {
            "tags": []
          },
          "execution_count": 106
        }
      ]
    },
    {
      "cell_type": "markdown",
      "metadata": {
        "id": "7svgvDoYQ14y",
        "colab_type": "text"
      },
      "source": [
        "Make Future Predictions"
      ]
    },
    {
      "cell_type": "code",
      "metadata": {
        "id": "dh_hVsS-1gTR",
        "colab_type": "code",
        "colab": {
          "base_uri": "https://localhost:8080/",
          "height": 35
        },
        "outputId": "dd50e100-7c9d-4679-d809-edaa03c9bae7"
      },
      "source": [
        "#Get the quote\n",
        "feature_quote = pd.read_csv('train_csv.csv')\n",
        "#Create a new dataframe\n",
        "new_df = feature_quote.filter(['feature'])\n",
        "\n",
        "#Get teh last 60 day closing price \n",
        "last_1_days = new_df[79:80].values\n",
        "#Scale the data to be values between 0 and 1\n",
        "last_1_days_scaled = scaler.transform(last_1_days)\n",
        "#Create an empty list\n",
        "X_test = []\n",
        "#Append teh past 1 days\n",
        "X_test.append(last_1_days_scaled)\n",
        "#Convert the X_test data set to a numpy array\n",
        "X_test = np.array(X_test)\n",
        "#Reshape the data\n",
        "X_test = np.reshape(X_test, (X_test.shape[0], X_test.shape[1], 1))\n",
        "#Get the predicted scaled price\n",
        "pred_price = model.predict(X_test)\n",
        "#undo the scaling \n",
        "pred_price = scaler.inverse_transform(pred_price)\n",
        "print(pred_price)"
      ],
      "execution_count": 110,
      "outputs": [
        {
          "output_type": "stream",
          "text": [
            "[[135.25763]]\n"
          ],
          "name": "stdout"
        }
      ]
    },
    {
      "cell_type": "code",
      "metadata": {
        "id": "-D3QoAnv2_ot",
        "colab_type": "code",
        "colab": {}
      },
      "source": [
        ""
      ],
      "execution_count": 0,
      "outputs": []
    }
  ]
}