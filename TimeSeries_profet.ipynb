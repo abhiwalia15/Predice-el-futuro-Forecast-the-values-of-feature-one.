{
  "nbformat": 4,
  "nbformat_minor": 0,
  "metadata": {
    "colab": {
      "name": "TimeSeries.ipynb",
      "provenance": [],
      "private_outputs": true
    },
    "kernelspec": {
      "name": "python3",
      "display_name": "Python 3"
    },
    "accelerator": "GPU"
  },
  "cells": [
    {
      "cell_type": "code",
      "metadata": {
        "id": "nOIYJ25zFMgd",
        "colab_type": "code",
        "colab": {}
      },
      "source": [
        "import numpy as np\n",
        "import pandas as pd\n",
        "import seaborn as sns\n",
        "import matplotlib.pyplot as plt\n",
        "from fbprophet import Prophet\n",
        "from sklearn.metrics import mean_squared_error, mean_absolute_error\n",
        "plt.style.use('fivethirtyeight') # For plots"
      ],
      "execution_count": 0,
      "outputs": []
    },
    {
      "cell_type": "code",
      "metadata": {
        "id": "sZWc4Lu2Fh2Q",
        "colab_type": "code",
        "colab": {}
      },
      "source": [
        "train = pd.read_csv('train_csv.csv')\n",
        "test = pd.read_csv('test_csv.csv')"
      ],
      "execution_count": 0,
      "outputs": []
    },
    {
      "cell_type": "code",
      "metadata": {
        "id": "CgzoAtQTGHoI",
        "colab_type": "code",
        "colab": {}
      },
      "source": [
        "train.head()"
      ],
      "execution_count": 0,
      "outputs": []
    },
    {
      "cell_type": "code",
      "metadata": {
        "id": "QupVp4kKHC1A",
        "colab_type": "code",
        "colab": {}
      },
      "source": [
        "test.head()\n"
      ],
      "execution_count": 0,
      "outputs": []
    },
    {
      "cell_type": "code",
      "metadata": {
        "id": "Ew0KwylKHWcm",
        "colab_type": "code",
        "colab": {}
      },
      "source": [
        "# Format data for prophet model using ds and y\n",
        "train.rename(columns={'time':'ds',\n",
        "                     'feature':'y'}).head()\n",
        "\n",
        "                     "
      ],
      "execution_count": 0,
      "outputs": []
    },
    {
      "cell_type": "code",
      "metadata": {
        "id": "6JEAxj5_H4oJ",
        "colab_type": "code",
        "colab": {}
      },
      "source": [
        "# Setup and train model and fit\n",
        "model = Prophet()\n",
        "model.fit(train.rename(columns={'time':'ds',\n",
        "                               'feature':'y'}))"
      ],
      "execution_count": 0,
      "outputs": []
    },
    {
      "cell_type": "code",
      "metadata": {
        "id": "H5t32AJ6IkkL",
        "colab_type": "code",
        "colab": {}
      },
      "source": [
        "# Predict on training set with model\n",
        "test_fcst = model.predict(df=test.rename(columns={'time':'ds'}))"
      ],
      "execution_count": 0,
      "outputs": []
    },
    {
      "cell_type": "code",
      "metadata": {
        "id": "qS4qOrK7IySI",
        "colab_type": "code",
        "colab": {}
      },
      "source": [
        "test_fcst.tail()"
      ],
      "execution_count": 0,
      "outputs": []
    },
    {
      "cell_type": "code",
      "metadata": {
        "id": "Xcl3ZLDTI2Pe",
        "colab_type": "code",
        "colab": {}
      },
      "source": [
        "# Plot the forecast\n",
        "f, ax = plt.subplots(1)\n",
        "f.set_figheight(5)\n",
        "f.set_figwidth(15)\n",
        "fig = model.plot(test_fcst,\n",
        "                 ax=ax)\n",
        "plt.show()"
      ],
      "execution_count": 0,
      "outputs": []
    },
    {
      "cell_type": "code",
      "metadata": {
        "id": "4NWiSuipJETE",
        "colab_type": "code",
        "colab": {}
      },
      "source": [
        "# Plot the components of the model\n",
        "fig = model.plot_components(test_fcst)"
      ],
      "execution_count": 0,
      "outputs": []
    },
    {
      "cell_type": "code",
      "metadata": {
        "id": "MXWQvOS8Jgfj",
        "colab_type": "code",
        "colab": {}
      },
      "source": [
        "# mean_absolute_error(y_true=train['feature'],\n",
        "#                    y_pred=test_fcst['yhat'])"
      ],
      "execution_count": 0,
      "outputs": []
    },
    {
      "cell_type": "code",
      "metadata": {
        "id": "ur2SYaRYKE0W",
        "colab_type": "code",
        "colab": {}
      },
      "source": [
        ""
      ],
      "execution_count": 0,
      "outputs": []
    }
  ]
}