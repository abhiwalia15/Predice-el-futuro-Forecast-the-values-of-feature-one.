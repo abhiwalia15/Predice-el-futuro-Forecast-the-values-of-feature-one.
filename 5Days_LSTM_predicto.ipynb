{
  "nbformat": 4,
  "nbformat_minor": 0,
  "metadata": {
    "colab": {
      "name": "5Days_LSTM_predicto.ipynb",
      "provenance": [],
      "collapsed_sections": []
    },
    "kernelspec": {
      "name": "python3",
      "display_name": "Python 3"
    },
    "accelerator": "TPU"
  },
  "cells": [
    {
      "cell_type": "markdown",
      "metadata": {
        "id": "UrkuG0v5QG9a",
        "colab_type": "text"
      },
      "source": [
        "IMPORTS"
      ]
    },
    {
      "cell_type": "code",
      "metadata": {
        "id": "e55AvObKgQOO",
        "colab_type": "code",
        "colab": {}
      },
      "source": [
        "#Import the libraries\n",
        "import math\n",
        "import pandas_datareader as web\n",
        "import numpy as np\n",
        "import pandas as pd\n",
        "from sklearn.preprocessing import MinMaxScaler\n",
        "from keras.models import Sequential\n",
        "from keras.layers import Dense, LSTM\n",
        "import matplotlib.pyplot as plt\n",
        "plt.style.use('fivethirtyeight')"
      ],
      "execution_count": 0,
      "outputs": []
    },
    {
      "cell_type": "code",
      "metadata": {
        "id": "C5fiskcqh35U",
        "colab_type": "code",
        "colab": {}
      },
      "source": [
        "df = pd.read_csv('train_csv.csv')"
      ],
      "execution_count": 0,
      "outputs": []
    },
    {
      "cell_type": "code",
      "metadata": {
        "id": "W_PlNeTni5pD",
        "colab_type": "code",
        "colab": {}
      },
      "source": [
        "df.reset_index(drop=True, inplace=True)"
      ],
      "execution_count": 0,
      "outputs": []
    },
    {
      "cell_type": "code",
      "metadata": {
        "id": "KY4XYZr3iIIS",
        "colab_type": "code",
        "outputId": "b63cae32-1152-4b89-86aa-1e598e94a58a",
        "colab": {
          "base_uri": "https://localhost:8080/",
          "height": 35
        }
      },
      "source": [
        "df.shape"
      ],
      "execution_count": 148,
      "outputs": [
        {
          "output_type": "execute_result",
          "data": {
            "text/plain": [
              "(80, 3)"
            ]
          },
          "metadata": {
            "tags": []
          },
          "execution_count": 148
        }
      ]
    },
    {
      "cell_type": "code",
      "metadata": {
        "id": "5nhwZOxmjrVD",
        "colab_type": "code",
        "outputId": "9fd77638-dc33-41fb-f1a4-5ff15da9c0e8",
        "colab": {
          "base_uri": "https://localhost:8080/",
          "height": 202
        }
      },
      "source": [
        "df.head()"
      ],
      "execution_count": 149,
      "outputs": [
        {
          "output_type": "execute_result",
          "data": {
            "text/html": [
              "<div>\n",
              "<style scoped>\n",
              "    .dataframe tbody tr th:only-of-type {\n",
              "        vertical-align: middle;\n",
              "    }\n",
              "\n",
              "    .dataframe tbody tr th {\n",
              "        vertical-align: top;\n",
              "    }\n",
              "\n",
              "    .dataframe thead th {\n",
              "        text-align: right;\n",
              "    }\n",
              "</style>\n",
              "<table border=\"1\" class=\"dataframe\">\n",
              "  <thead>\n",
              "    <tr style=\"text-align: right;\">\n",
              "      <th></th>\n",
              "      <th>id</th>\n",
              "      <th>time</th>\n",
              "      <th>feature</th>\n",
              "    </tr>\n",
              "  </thead>\n",
              "  <tbody>\n",
              "    <tr>\n",
              "      <th>0</th>\n",
              "      <td>0</td>\n",
              "      <td>2019-03-19 00:00:00</td>\n",
              "      <td>237.97</td>\n",
              "    </tr>\n",
              "    <tr>\n",
              "      <th>1</th>\n",
              "      <td>1</td>\n",
              "      <td>2019-03-19 00:00:10</td>\n",
              "      <td>57.93</td>\n",
              "    </tr>\n",
              "    <tr>\n",
              "      <th>2</th>\n",
              "      <td>2</td>\n",
              "      <td>2019-03-19 00:00:20</td>\n",
              "      <td>90.53</td>\n",
              "    </tr>\n",
              "    <tr>\n",
              "      <th>3</th>\n",
              "      <td>3</td>\n",
              "      <td>2019-03-19 00:00:30</td>\n",
              "      <td>260.75</td>\n",
              "    </tr>\n",
              "    <tr>\n",
              "      <th>4</th>\n",
              "      <td>4</td>\n",
              "      <td>2019-03-19 00:00:40</td>\n",
              "      <td>49.70</td>\n",
              "    </tr>\n",
              "  </tbody>\n",
              "</table>\n",
              "</div>"
            ],
            "text/plain": [
              "   id                 time  feature\n",
              "0   0  2019-03-19 00:00:00   237.97\n",
              "1   1  2019-03-19 00:00:10    57.93\n",
              "2   2  2019-03-19 00:00:20    90.53\n",
              "3   3  2019-03-19 00:00:30   260.75\n",
              "4   4  2019-03-19 00:00:40    49.70"
            ]
          },
          "metadata": {
            "tags": []
          },
          "execution_count": 149
        }
      ]
    },
    {
      "cell_type": "code",
      "metadata": {
        "id": "Wh-GnSi5iT31",
        "colab_type": "code",
        "outputId": "992702a4-3814-4c8a-9573-8378d2bb0809",
        "colab": {
          "base_uri": "https://localhost:8080/",
          "height": 440
        }
      },
      "source": [
        "#Visualize the features\n",
        "plt.figure(figsize=(16,8))\n",
        "plt.title('FEATURE')\n",
        "plt.scatter(df['time'], df['feature'])\n",
        "plt.plot(df['time'], df['feature'])\n",
        "\n",
        "plt.xlabel('Date',fontsize=18)\n",
        "plt.ylabel('features',fontsize=18)\n",
        "plt.show()"
      ],
      "execution_count": 150,
      "outputs": [
        {
          "output_type": "display_data",
          "data": {
            "image/png": "[encoded data removed]",
            "text/plain": [
              "<Figure size 1152x576 with 1 Axes>"
            ]
          },
          "metadata": {
            "tags": []
          }
        }
      ]
    },
    {
      "cell_type": "markdown",
      "metadata": {
        "id": "cCe2jy2iQOMZ",
        "colab_type": "text"
      },
      "source": [
        "Feature Engineering"
      ]
    },
    {
      "cell_type": "code",
      "metadata": {
        "id": "s7KemH23j3_2",
        "colab_type": "code",
        "colab": {}
      },
      "source": [
        "#Create a new dataframe with only the 'feature' column\n",
        "data = df.filter(['feature'])\n",
        "#Converting the dataframe to a numpy array\n",
        "dataset = data.values\n",
        "#Get /Compute the number of rows to train the model on\n",
        "training_data_len = math.ceil( len(dataset) *.8)"
      ],
      "execution_count": 0,
      "outputs": []
    },
    {
      "cell_type": "code",
      "metadata": {
        "id": "bmx1Qu2epVTR",
        "colab_type": "code",
        "outputId": "d468cea3-5ec4-4608-f749-d8ba0889166a",
        "colab": {
          "base_uri": "https://localhost:8080/",
          "height": 35
        }
      },
      "source": [
        "training_data_len"
      ],
      "execution_count": 152,
      "outputs": [
        {
          "output_type": "execute_result",
          "data": {
            "text/plain": [
              "64"
            ]
          },
          "metadata": {
            "tags": []
          },
          "execution_count": 152
        }
      ]
    },
    {
      "cell_type": "code",
      "metadata": {
        "id": "hRiOf3uum4jc",
        "colab_type": "code",
        "colab": {}
      },
      "source": [
        "#Scale the all of the data to be values between 0 and 1 \n",
        "scaler = MinMaxScaler(feature_range=(0, 1)) \n",
        "scaled_data = scaler.fit_transform(dataset)\n"
      ],
      "execution_count": 0,
      "outputs": []
    },
    {
      "cell_type": "code",
      "metadata": {
        "id": "6mg1v0apm8Dd",
        "colab_type": "code",
        "outputId": "c8157329-172b-4263-ad84-6791e80b9413",
        "colab": {
          "base_uri": "https://localhost:8080/",
          "height": 35
        }
      },
      "source": [
        "len(scaled_data)"
      ],
      "execution_count": 154,
      "outputs": [
        {
          "output_type": "execute_result",
          "data": {
            "text/plain": [
              "80"
            ]
          },
          "metadata": {
            "tags": []
          },
          "execution_count": 154
        }
      ]
    },
    {
      "cell_type": "markdown",
      "metadata": {
        "id": "u61TKNL9QVmm",
        "colab_type": "text"
      },
      "source": [
        "Train and Test Split"
      ]
    },
    {
      "cell_type": "code",
      "metadata": {
        "id": "_v8ufSahm9RA",
        "colab_type": "code",
        "outputId": "b6e1938a-72b1-44e0-9d7c-956753267489",
        "colab": {
          "base_uri": "https://localhost:8080/",
          "height": 35
        }
      },
      "source": [
        "#Create the scaled training data set \n",
        "train_data = scaled_data[0:training_data_len  , : ]\n",
        "len(train_data)"
      ],
      "execution_count": 155,
      "outputs": [
        {
          "output_type": "execute_result",
          "data": {
            "text/plain": [
              "64"
            ]
          },
          "metadata": {
            "tags": []
          },
          "execution_count": 155
        }
      ]
    },
    {
      "cell_type": "code",
      "metadata": {
        "id": "6rZFrrBXqzjB",
        "colab_type": "code",
        "colab": {}
      },
      "source": [
        "#Split the data into x_train and y_train data sets\n",
        "x_train=[]\n",
        "y_train = []\n",
        "for i in range(5, len(train_data)):\n",
        "    x_train.append(train_data[i-5:i,0])\n",
        "    y_train.append(train_data[i,0])"
      ],
      "execution_count": 0,
      "outputs": []
    },
    {
      "cell_type": "code",
      "metadata": {
        "id": "oVO8C5csvHoG",
        "colab_type": "code",
        "colab": {}
      },
      "source": [
        "#Convert x_train and y_train to numpy arrays\n",
        "x_train, y_train = np.array(x_train), np.array(y_train)"
      ],
      "execution_count": 0,
      "outputs": []
    },
    {
      "cell_type": "code",
      "metadata": {
        "id": "vBVAkhp8vMNg",
        "colab_type": "code",
        "colab": {}
      },
      "source": [
        "#Reshape the data into the shape accepted by the LSTM\n",
        "x_train = np.reshape(x_train, (x_train.shape[0],x_train.shape[1],1))"
      ],
      "execution_count": 0,
      "outputs": []
    },
    {
      "cell_type": "markdown",
      "metadata": {
        "id": "cd-vcMCTQZbr",
        "colab_type": "text"
      },
      "source": [
        "Build the Architecture"
      ]
    },
    {
      "cell_type": "code",
      "metadata": {
        "id": "KTxE0Aowvcfp",
        "colab_type": "code",
        "colab": {}
      },
      "source": [
        "#Build the LSTM network model\n",
        "model = Sequential()\n",
        "model.add(LSTM(units=50, return_sequences=True,input_shape=(x_train.shape[1],1)))\n",
        "model.add(LSTM(units=50, return_sequences=False))\n",
        "model.add(Dense(units=25))\n",
        "model.add(Dense(units=1))\n",
        "\n",
        "#Compile the model\n",
        "model.compile(optimizer='adam', loss='mean_squared_error')"
      ],
      "execution_count": 0,
      "outputs": []
    },
    {
      "cell_type": "code",
      "metadata": {
        "id": "3xS3JzhJvep2",
        "colab_type": "code",
        "colab": {}
      },
      "source": [
        "# from keras.layers import Dropout\n",
        "\n",
        "# # Initialising the RNN\n",
        "# model = Sequential()\n",
        "# model.add(LSTM(units = 50, return_sequences = True, input_shape = (x_train.shape[1], 1)))\n",
        "# #model.add(Dropout(0.2))\n",
        "# # Adding a second LSTM layer and some Dropout regularisation\n",
        "# model.add(LSTM(units = 50, return_sequences = False))\n",
        "# #model.add(Dropout(0.2))\n",
        "# # Adding a third LSTM layer and some Dropout regularisation\n",
        "# # model.add(LSTM(units = 50, return_sequences = True))\n",
        "# # model.add(Dropout(0.2))\n",
        "# # Adding a fourth LSTM layer and some Dropout regularisation\n",
        "# model.add(LSTM(units = 50))\n",
        "# #model.add(Dropout(0.2))\n",
        "# # Adding the output layer\n",
        "# # For Full connection layer we use dense\n",
        "# # As the output is 1D so we use unit=1\n",
        "# model.add(Dense(units = 25))\n",
        "# # Compiling the RNN\n",
        "# # For optimizer we can go through keras optimizers Docomentation\n",
        "# # As it is regression problem so we use mean squared error\n",
        "# model.compile(optimizer = 'adam', loss = 'mean_squared_error')\n"
      ],
      "execution_count": 0,
      "outputs": []
    },
    {
      "cell_type": "markdown",
      "metadata": {
        "id": "CQBxOxkBQgXp",
        "colab_type": "text"
      },
      "source": [
        "Train The Model"
      ]
    },
    {
      "cell_type": "code",
      "metadata": {
        "id": "m3VOCGKgvjyB",
        "colab_type": "code",
        "outputId": "65732518-eb15-4161-e890-31c28f863f15",
        "colab": {
          "base_uri": "https://localhost:8080/",
          "height": 1000
        }
      },
      "source": [
        "#Train the model\n",
        "model.fit(x_train, y_train, batch_size=50, epochs=100)"
      ],
      "execution_count": 160,
      "outputs": [
        {
          "output_type": "stream",
          "text": [
            "Epoch 1/100\n",
            "59/59 [==============================] - 1s 10ms/step - loss: 0.1053\n",
            "Epoch 2/100\n",
            "59/59 [==============================] - 0s 283us/step - loss: 0.0822\n",
            "Epoch 3/100\n",
            "59/59 [==============================] - 0s 306us/step - loss: 0.0625\n",
            "Epoch 4/100\n",
            "59/59 [==============================] - 0s 285us/step - loss: 0.0469\n",
            "Epoch 5/100\n",
            "59/59 [==============================] - 0s 364us/step - loss: 0.0366\n",
            "Epoch 6/100\n",
            "59/59 [==============================] - 0s 390us/step - loss: 0.0334\n",
            "Epoch 7/100\n",
            "59/59 [==============================] - 0s 296us/step - loss: 0.0390\n",
            "Epoch 8/100\n",
            "59/59 [==============================] - 0s 314us/step - loss: 0.0455\n",
            "Epoch 9/100\n",
            "59/59 [==============================] - 0s 282us/step - loss: 0.0436\n",
            "Epoch 10/100\n",
            "59/59 [==============================] - 0s 295us/step - loss: 0.0383\n",
            "Epoch 11/100\n",
            "59/59 [==============================] - 0s 297us/step - loss: 0.0347\n",
            "Epoch 12/100\n",
            "59/59 [==============================] - 0s 311us/step - loss: 0.0335\n",
            "Epoch 13/100\n",
            "59/59 [==============================] - 0s 311us/step - loss: 0.0343\n",
            "Epoch 14/100\n",
            "59/59 [==============================] - 0s 305us/step - loss: 0.0354\n",
            "Epoch 15/100\n",
            "59/59 [==============================] - 0s 320us/step - loss: 0.0362\n",
            "Epoch 16/100\n",
            "59/59 [==============================] - 0s 291us/step - loss: 0.0365\n",
            "Epoch 17/100\n",
            "59/59 [==============================] - 0s 285us/step - loss: 0.0364\n",
            "Epoch 18/100\n",
            "59/59 [==============================] - 0s 374us/step - loss: 0.0358\n",
            "Epoch 19/100\n",
            "59/59 [==============================] - 0s 303us/step - loss: 0.0351\n",
            "Epoch 20/100\n",
            "59/59 [==============================] - 0s 291us/step - loss: 0.0343\n",
            "Epoch 21/100\n",
            "59/59 [==============================] - 0s 279us/step - loss: 0.0336\n",
            "Epoch 22/100\n",
            "59/59 [==============================] - 0s 270us/step - loss: 0.0334\n",
            "Epoch 23/100\n",
            "59/59 [==============================] - 0s 300us/step - loss: 0.0337\n",
            "Epoch 24/100\n",
            "59/59 [==============================] - 0s 324us/step - loss: 0.0344\n",
            "Epoch 25/100\n",
            "59/59 [==============================] - 0s 337us/step - loss: 0.0351\n",
            "Epoch 26/100\n",
            "59/59 [==============================] - 0s 326us/step - loss: 0.0353\n",
            "Epoch 27/100\n",
            "59/59 [==============================] - 0s 276us/step - loss: 0.0352\n",
            "Epoch 28/100\n",
            "59/59 [==============================] - 0s 284us/step - loss: 0.0348\n",
            "Epoch 29/100\n",
            "59/59 [==============================] - 0s 285us/step - loss: 0.0343\n",
            "Epoch 30/100\n",
            "59/59 [==============================] - 0s 308us/step - loss: 0.0340\n",
            "Epoch 31/100\n",
            "59/59 [==============================] - 0s 288us/step - loss: 0.0335\n",
            "Epoch 32/100\n",
            "59/59 [==============================] - 0s 272us/step - loss: 0.0333\n",
            "Epoch 33/100\n",
            "59/59 [==============================] - 0s 273us/step - loss: 0.0332\n",
            "Epoch 34/100\n",
            "59/59 [==============================] - 0s 275us/step - loss: 0.0336\n",
            "Epoch 35/100\n",
            "59/59 [==============================] - 0s 318us/step - loss: 0.0336\n",
            "Epoch 36/100\n",
            "59/59 [==============================] - 0s 303us/step - loss: 0.0337\n",
            "Epoch 37/100\n",
            "59/59 [==============================] - 0s 305us/step - loss: 0.0338\n",
            "Epoch 38/100\n",
            "59/59 [==============================] - 0s 320us/step - loss: 0.0338\n",
            "Epoch 39/100\n",
            "59/59 [==============================] - 0s 303us/step - loss: 0.0336\n",
            "Epoch 40/100\n",
            "59/59 [==============================] - 0s 306us/step - loss: 0.0334\n",
            "Epoch 41/100\n",
            "59/59 [==============================] - 0s 316us/step - loss: 0.0332\n",
            "Epoch 42/100\n",
            "59/59 [==============================] - 0s 350us/step - loss: 0.0331\n",
            "Epoch 43/100\n",
            "59/59 [==============================] - 0s 311us/step - loss: 0.0331\n",
            "Epoch 44/100\n",
            "59/59 [==============================] - 0s 358us/step - loss: 0.0332\n",
            "Epoch 45/100\n",
            "59/59 [==============================] - 0s 376us/step - loss: 0.0332\n",
            "Epoch 46/100\n",
            "59/59 [==============================] - 0s 304us/step - loss: 0.0331\n",
            "Epoch 47/100\n",
            "59/59 [==============================] - 0s 312us/step - loss: 0.0332\n",
            "Epoch 48/100\n",
            "59/59 [==============================] - 0s 326us/step - loss: 0.0331\n",
            "Epoch 49/100\n",
            "59/59 [==============================] - 0s 326us/step - loss: 0.0330\n",
            "Epoch 50/100\n",
            "59/59 [==============================] - 0s 347us/step - loss: 0.0330\n",
            "Epoch 51/100\n",
            "59/59 [==============================] - 0s 315us/step - loss: 0.0330\n",
            "Epoch 52/100\n",
            "59/59 [==============================] - 0s 427us/step - loss: 0.0332\n",
            "Epoch 53/100\n",
            "59/59 [==============================] - 0s 356us/step - loss: 0.0334\n",
            "Epoch 54/100\n",
            "59/59 [==============================] - 0s 331us/step - loss: 0.0332\n",
            "Epoch 55/100\n",
            "59/59 [==============================] - 0s 323us/step - loss: 0.0331\n",
            "Epoch 56/100\n",
            "59/59 [==============================] - 0s 325us/step - loss: 0.0328\n",
            "Epoch 57/100\n",
            "59/59 [==============================] - 0s 394us/step - loss: 0.0328\n",
            "Epoch 58/100\n",
            "59/59 [==============================] - 0s 337us/step - loss: 0.0328\n",
            "Epoch 59/100\n",
            "59/59 [==============================] - 0s 318us/step - loss: 0.0328\n",
            "Epoch 60/100\n",
            "59/59 [==============================] - 0s 310us/step - loss: 0.0327\n",
            "Epoch 61/100\n",
            "59/59 [==============================] - 0s 310us/step - loss: 0.0327\n",
            "Epoch 62/100\n",
            "59/59 [==============================] - 0s 328us/step - loss: 0.0327\n",
            "Epoch 63/100\n",
            "59/59 [==============================] - 0s 341us/step - loss: 0.0327\n",
            "Epoch 64/100\n",
            "59/59 [==============================] - 0s 315us/step - loss: 0.0327\n",
            "Epoch 65/100\n",
            "59/59 [==============================] - 0s 387us/step - loss: 0.0326\n",
            "Epoch 66/100\n",
            "59/59 [==============================] - 0s 368us/step - loss: 0.0326\n",
            "Epoch 67/100\n",
            "59/59 [==============================] - 0s 352us/step - loss: 0.0327\n",
            "Epoch 68/100\n",
            "59/59 [==============================] - 0s 340us/step - loss: 0.0334\n",
            "Epoch 69/100\n",
            "59/59 [==============================] - 0s 325us/step - loss: 0.0343\n",
            "Epoch 70/100\n",
            "59/59 [==============================] - 0s 330us/step - loss: 0.0341\n",
            "Epoch 71/100\n",
            "59/59 [==============================] - 0s 369us/step - loss: 0.0333\n",
            "Epoch 72/100\n",
            "59/59 [==============================] - 0s 349us/step - loss: 0.0326\n",
            "Epoch 73/100\n",
            "59/59 [==============================] - 0s 325us/step - loss: 0.0322\n",
            "Epoch 74/100\n",
            "59/59 [==============================] - 0s 328us/step - loss: 0.0329\n",
            "Epoch 75/100\n",
            "59/59 [==============================] - 0s 320us/step - loss: 0.0331\n",
            "Epoch 76/100\n",
            "59/59 [==============================] - 0s 333us/step - loss: 0.0333\n",
            "Epoch 77/100\n",
            "59/59 [==============================] - 0s 319us/step - loss: 0.0332\n",
            "Epoch 78/100\n",
            "59/59 [==============================] - 0s 352us/step - loss: 0.0328\n",
            "Epoch 79/100\n",
            "59/59 [==============================] - 0s 324us/step - loss: 0.0322\n",
            "Epoch 80/100\n",
            "59/59 [==============================] - 0s 327us/step - loss: 0.0326\n",
            "Epoch 81/100\n",
            "59/59 [==============================] - 0s 350us/step - loss: 0.0328\n",
            "Epoch 82/100\n",
            "59/59 [==============================] - 0s 330us/step - loss: 0.0326\n",
            "Epoch 83/100\n",
            "59/59 [==============================] - 0s 312us/step - loss: 0.0324\n",
            "Epoch 84/100\n",
            "59/59 [==============================] - 0s 283us/step - loss: 0.0323\n",
            "Epoch 85/100\n",
            "59/59 [==============================] - 0s 411us/step - loss: 0.0322\n",
            "Epoch 86/100\n",
            "59/59 [==============================] - 0s 320us/step - loss: 0.0322\n",
            "Epoch 87/100\n",
            "59/59 [==============================] - 0s 332us/step - loss: 0.0322\n",
            "Epoch 88/100\n",
            "59/59 [==============================] - 0s 326us/step - loss: 0.0322\n",
            "Epoch 89/100\n",
            "59/59 [==============================] - 0s 326us/step - loss: 0.0323\n",
            "Epoch 90/100\n",
            "59/59 [==============================] - 0s 319us/step - loss: 0.0328\n",
            "Epoch 91/100\n",
            "59/59 [==============================] - 0s 286us/step - loss: 0.0332\n",
            "Epoch 92/100\n",
            "59/59 [==============================] - 0s 310us/step - loss: 0.0333\n",
            "Epoch 93/100\n",
            "59/59 [==============================] - 0s 335us/step - loss: 0.0331\n",
            "Epoch 94/100\n",
            "59/59 [==============================] - 0s 335us/step - loss: 0.0324\n",
            "Epoch 95/100\n",
            "59/59 [==============================] - 0s 293us/step - loss: 0.0321\n",
            "Epoch 96/100\n",
            "59/59 [==============================] - 0s 310us/step - loss: 0.0319\n",
            "Epoch 97/100\n",
            "59/59 [==============================] - 0s 326us/step - loss: 0.0324\n",
            "Epoch 98/100\n",
            "59/59 [==============================] - 0s 331us/step - loss: 0.0324\n",
            "Epoch 99/100\n",
            "59/59 [==============================] - 0s 319us/step - loss: 0.0322\n",
            "Epoch 100/100\n",
            "59/59 [==============================] - 0s 313us/step - loss: 0.0318\n"
          ],
          "name": "stdout"
        },
        {
          "output_type": "execute_result",
          "data": {
            "text/plain": [
              "<keras.callbacks.callbacks.History at 0x7f5394c9a390>"
            ]
          },
          "metadata": {
            "tags": []
          },
          "execution_count": 160
        }
      ]
    },
    {
      "cell_type": "markdown",
      "metadata": {
        "id": "r-XPuHXXQkxc",
        "colab_type": "text"
      },
      "source": [
        "Testing Dataset "
      ]
    },
    {
      "cell_type": "code",
      "metadata": {
        "id": "9YXpwflAvlc9",
        "colab_type": "code",
        "outputId": "19cbe213-8d23-4c1a-85db-2fdd2911a782",
        "colab": {
          "base_uri": "https://localhost:8080/",
          "height": 35
        }
      },
      "source": [
        "#Test data set\n",
        "test_data = scaled_data[training_data_len - 5: , : ]\n",
        "len(test_data)"
      ],
      "execution_count": 161,
      "outputs": [
        {
          "output_type": "execute_result",
          "data": {
            "text/plain": [
              "21"
            ]
          },
          "metadata": {
            "tags": []
          },
          "execution_count": 161
        }
      ]
    },
    {
      "cell_type": "code",
      "metadata": {
        "id": "yF98KjtAxAiM",
        "colab_type": "code",
        "colab": {}
      },
      "source": [
        "#Create the x_test and y_test data sets\n",
        "x_test = []\n",
        "y_test =  dataset[training_data_len : , : ] #Get all of the rows from index 1603 to the rest and all of the columns (in this case it's only column 'Close'), so 2003 - 1603 = 400 rows of data\n",
        "for i in range(5,len(test_data)):\n",
        "    x_test.append(test_data[i-5:i,0])"
      ],
      "execution_count": 0,
      "outputs": []
    },
    {
      "cell_type": "code",
      "metadata": {
        "id": "j2lH0qLxxrF0",
        "colab_type": "code",
        "colab": {}
      },
      "source": [
        "# x_test"
      ],
      "execution_count": 0,
      "outputs": []
    },
    {
      "cell_type": "code",
      "metadata": {
        "id": "nb3ya4mBx5RW",
        "colab_type": "code",
        "colab": {}
      },
      "source": [
        "# y_test"
      ],
      "execution_count": 0,
      "outputs": []
    },
    {
      "cell_type": "code",
      "metadata": {
        "id": "3iYWAraIx6mt",
        "colab_type": "code",
        "outputId": "fb56fd23-509f-48c9-e390-ce35a1b08f73",
        "colab": {
          "base_uri": "https://localhost:8080/",
          "height": 35
        }
      },
      "source": [
        "len(x_test)"
      ],
      "execution_count": 165,
      "outputs": [
        {
          "output_type": "execute_result",
          "data": {
            "text/plain": [
              "16"
            ]
          },
          "metadata": {
            "tags": []
          },
          "execution_count": 165
        }
      ]
    },
    {
      "cell_type": "code",
      "metadata": {
        "id": "uHBGKHWFx8g9",
        "colab_type": "code",
        "outputId": "99d3d497-db0f-4230-c402-ff08d03fb531",
        "colab": {
          "base_uri": "https://localhost:8080/",
          "height": 35
        }
      },
      "source": [
        "len(y_test)"
      ],
      "execution_count": 166,
      "outputs": [
        {
          "output_type": "execute_result",
          "data": {
            "text/plain": [
              "16"
            ]
          },
          "metadata": {
            "tags": []
          },
          "execution_count": 166
        }
      ]
    },
    {
      "cell_type": "code",
      "metadata": {
        "id": "6FD16FSqyU3a",
        "colab_type": "code",
        "colab": {}
      },
      "source": [
        "#Convert x_test to a numpy array \n",
        "x_test = np.array(x_test)"
      ],
      "execution_count": 0,
      "outputs": []
    },
    {
      "cell_type": "code",
      "metadata": {
        "id": "NQtqmNUEx_lH",
        "colab_type": "code",
        "colab": {}
      },
      "source": [
        "#Reshape the data into the shape accepted by the LSTM\n",
        "x_test = np.reshape(x_test, (x_test.shape[0],x_test.shape[1],1))"
      ],
      "execution_count": 0,
      "outputs": []
    },
    {
      "cell_type": "markdown",
      "metadata": {
        "id": "gjOrU8hYQoyI",
        "colab_type": "text"
      },
      "source": [
        "Make Predictions"
      ]
    },
    {
      "cell_type": "code",
      "metadata": {
        "id": "Wbhdf0uXyEAH",
        "colab_type": "code",
        "colab": {}
      },
      "source": [
        "#Getting the models predicted price values\n",
        "predictions = model.predict(x_test) \n",
        "predictions = scaler.inverse_transform(predictions)#Undo scaling"
      ],
      "execution_count": 0,
      "outputs": []
    },
    {
      "cell_type": "markdown",
      "metadata": {
        "id": "CpRYmBuCQq8U",
        "colab_type": "text"
      },
      "source": [
        "Calculate RMSE"
      ]
    },
    {
      "cell_type": "code",
      "metadata": {
        "id": "eAw0EZf4yF2-",
        "colab_type": "code",
        "outputId": "5fdfe257-03dd-406b-927c-711643fa6516",
        "colab": {
          "base_uri": "https://localhost:8080/",
          "height": 35
        }
      },
      "source": [
        "#Calculate/Get the value of RMSE\n",
        "rmse=np.sqrt(np.mean(((predictions- y_test)**2)))\n",
        "rmse"
      ],
      "execution_count": 170,
      "outputs": [
        {
          "output_type": "execute_result",
          "data": {
            "text/plain": [
              "128.22186132130227"
            ]
          },
          "metadata": {
            "tags": []
          },
          "execution_count": 170
        }
      ]
    },
    {
      "cell_type": "markdown",
      "metadata": {
        "id": "EPhgLIRkQtv4",
        "colab_type": "text"
      },
      "source": [
        "Visualizations of Results"
      ]
    },
    {
      "cell_type": "code",
      "metadata": {
        "id": "7to1DdthydDK",
        "colab_type": "code",
        "outputId": "6d6c897c-26c6-4556-f534-361170f015f2",
        "colab": {
          "base_uri": "https://localhost:8080/",
          "height": 575
        }
      },
      "source": [
        "#Plot/Create the data for the graph\n",
        "train = data[:training_data_len]\n",
        "valid = data[training_data_len:]\n",
        "valid['Predictions'] = predictions\n",
        "\n",
        "#Visualize the data\n",
        "plt.figure(figsize=(16,8))\n",
        "plt.title('Model')\n",
        "plt.xlabel('Date', fontsize=18)\n",
        "plt.ylabel('feature', fontsize=18)\n",
        "plt.plot(train['feature'])\n",
        "plt.plot(valid[['feature', 'Predictions']])\n",
        "plt.legend(['Train', 'Val', 'Predictions'], loc='lower right')\n",
        "plt.show()"
      ],
      "execution_count": 171,
      "outputs": [
        {
          "output_type": "stream",
          "text": [
            "/usr/local/lib/python3.6/dist-packages/ipykernel_launcher.py:3: SettingWithCopyWarning: \n",
            "A value is trying to be set on a copy of a slice from a DataFrame.\n",
            "Try using .loc[row_indexer,col_indexer] = value instead\n",
            "\n",
            "See the caveats in the documentation: https://pandas.pydata.org/pandas-docs/stable/user_guide/indexing.html#returning-a-view-versus-a-copy\n",
            "  This is separate from the ipykernel package so we can avoid doing imports until\n"
          ],
          "name": "stderr"
        },
        {
          "output_type": "display_data",
          "data": {
            "image/png": "[encoded data removed]",
            "text/plain": [
              "<Figure size 1152x576 with 1 Axes>"
            ]
          },
          "metadata": {
            "tags": []
          }
        }
      ]
    },
    {
      "cell_type": "code",
      "metadata": {
        "id": "FF9ByL2HysmN",
        "colab_type": "code",
        "outputId": "d919cdc9-6492-4186-be71-0301408fb78c",
        "colab": {
          "base_uri": "https://localhost:8080/",
          "height": 539
        }
      },
      "source": [
        "#Show the valid and predicted prices\n",
        "valid"
      ],
      "execution_count": 172,
      "outputs": [
        {
          "output_type": "execute_result",
          "data": {
            "text/html": [
              "<div>\n",
              "<style scoped>\n",
              "    .dataframe tbody tr th:only-of-type {\n",
              "        vertical-align: middle;\n",
              "    }\n",
              "\n",
              "    .dataframe tbody tr th {\n",
              "        vertical-align: top;\n",
              "    }\n",
              "\n",
              "    .dataframe thead th {\n",
              "        text-align: right;\n",
              "    }\n",
              "</style>\n",
              "<table border=\"1\" class=\"dataframe\">\n",
              "  <thead>\n",
              "    <tr style=\"text-align: right;\">\n",
              "      <th></th>\n",
              "      <th>feature</th>\n",
              "      <th>Predictions</th>\n",
              "    </tr>\n",
              "  </thead>\n",
              "  <tbody>\n",
              "    <tr>\n",
              "      <th>64</th>\n",
              "      <td>110.79</td>\n",
              "      <td>120.735214</td>\n",
              "    </tr>\n",
              "    <tr>\n",
              "      <th>65</th>\n",
              "      <td>157.37</td>\n",
              "      <td>125.603333</td>\n",
              "    </tr>\n",
              "    <tr>\n",
              "      <th>66</th>\n",
              "      <td>199.37</td>\n",
              "      <td>133.456558</td>\n",
              "    </tr>\n",
              "    <tr>\n",
              "      <th>67</th>\n",
              "      <td>173.72</td>\n",
              "      <td>144.015717</td>\n",
              "    </tr>\n",
              "    <tr>\n",
              "      <th>68</th>\n",
              "      <td>188.69</td>\n",
              "      <td>150.308014</td>\n",
              "    </tr>\n",
              "    <tr>\n",
              "      <th>69</th>\n",
              "      <td>155.62</td>\n",
              "      <td>152.335968</td>\n",
              "    </tr>\n",
              "    <tr>\n",
              "      <th>70</th>\n",
              "      <td>156.46</td>\n",
              "      <td>154.026505</td>\n",
              "    </tr>\n",
              "    <tr>\n",
              "      <th>71</th>\n",
              "      <td>111.91</td>\n",
              "      <td>151.793808</td>\n",
              "    </tr>\n",
              "    <tr>\n",
              "      <th>72</th>\n",
              "      <td>153.83</td>\n",
              "      <td>143.707809</td>\n",
              "    </tr>\n",
              "    <tr>\n",
              "      <th>73</th>\n",
              "      <td>83.51</td>\n",
              "      <td>140.526230</td>\n",
              "    </tr>\n",
              "    <tr>\n",
              "      <th>74</th>\n",
              "      <td>401.43</td>\n",
              "      <td>132.106125</td>\n",
              "    </tr>\n",
              "    <tr>\n",
              "      <th>75</th>\n",
              "      <td>469.72</td>\n",
              "      <td>156.116241</td>\n",
              "    </tr>\n",
              "    <tr>\n",
              "      <th>76</th>\n",
              "      <td>406.79</td>\n",
              "      <td>195.678833</td>\n",
              "    </tr>\n",
              "    <tr>\n",
              "      <th>77</th>\n",
              "      <td>128.91</td>\n",
              "      <td>228.949753</td>\n",
              "    </tr>\n",
              "    <tr>\n",
              "      <th>78</th>\n",
              "      <td>85.28</td>\n",
              "      <td>222.352036</td>\n",
              "    </tr>\n",
              "    <tr>\n",
              "      <th>79</th>\n",
              "      <td>121.12</td>\n",
              "      <td>198.820572</td>\n",
              "    </tr>\n",
              "  </tbody>\n",
              "</table>\n",
              "</div>"
            ],
            "text/plain": [
              "    feature  Predictions\n",
              "64   110.79   120.735214\n",
              "65   157.37   125.603333\n",
              "66   199.37   133.456558\n",
              "67   173.72   144.015717\n",
              "68   188.69   150.308014\n",
              "69   155.62   152.335968\n",
              "70   156.46   154.026505\n",
              "71   111.91   151.793808\n",
              "72   153.83   143.707809\n",
              "73    83.51   140.526230\n",
              "74   401.43   132.106125\n",
              "75   469.72   156.116241\n",
              "76   406.79   195.678833\n",
              "77   128.91   228.949753\n",
              "78    85.28   222.352036\n",
              "79   121.12   198.820572"
            ]
          },
          "metadata": {
            "tags": []
          },
          "execution_count": 172
        }
      ]
    },
    {
      "cell_type": "markdown",
      "metadata": {
        "id": "7svgvDoYQ14y",
        "colab_type": "text"
      },
      "source": [
        "Make Future Predictions"
      ]
    },
    {
      "cell_type": "code",
      "metadata": {
        "id": "azcXCwP8RoMo",
        "colab_type": "code",
        "colab": {}
      },
      "source": [
        "df1 = pd.read_csv('train_csv.csv')\n",
        "df2 = pd.read_csv('test_csv.csv')\n",
        "\n",
        "\n",
        "valid_csv = pd.concat([df1, df2])\n",
        "\n",
        "valid_csv.tail\n",
        "valid_csv.to_csv('valid_csv.csv')"
      ],
      "execution_count": 0,
      "outputs": []
    },
    {
      "cell_type": "code",
      "metadata": {
        "id": "dh_hVsS-1gTR",
        "colab_type": "code",
        "outputId": "9ce36221-449d-4418-dd89-3113b8a47ca6",
        "colab": {
          "base_uri": "https://localhost:8080/",
          "height": 35
        }
      },
      "source": [
        "#Get the quote\n",
        "feature_quote = pd.read_csv('valid_csv.csv')\n",
        "#Create a new dataframe\n",
        "new_df = feature_quote.filter(['feature'])\n",
        "\n",
        "#Get teh last 60 day closing price \n",
        "last_1_days = new_df[114:119].values\n",
        "#Scale the data to be values between 0 and 1\n",
        "last_1_days_scaled = scaler.transform(last_1_days)\n",
        "#Create an empty list\n",
        "X_test = []\n",
        "#Append teh past 1 days\n",
        "X_test.append(last_1_days_scaled)\n",
        "#Convert the X_test data set to a numpy array\n",
        "X_test = np.array(X_test)\n",
        "#Reshape the data\n",
        "X_test = np.reshape(X_test, (X_test.shape[0], X_test.shape[1], 1))\n",
        "#Get the predicted scaled price\n",
        "pred_price = model.predict(X_test)\n",
        "#undo the scaling \n",
        "pred_price = scaler.inverse_transform(pred_price)\n",
        "print(pred_price)"
      ],
      "execution_count": 232,
      "outputs": [
        {
          "output_type": "stream",
          "text": [
            "[[134.11668]]\n"
          ],
          "name": "stdout"
        }
      ]
    },
    {
      "cell_type": "code",
      "metadata": {
        "id": "-D3QoAnv2_ot",
        "colab_type": "code",
        "colab": {}
      },
      "source": [
        ""
      ],
      "execution_count": 0,
      "outputs": []
    }
  ]
}